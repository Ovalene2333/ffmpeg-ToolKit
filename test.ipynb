{
 "cells": [
  {
   "cell_type": "code",
   "execution_count": 25,
   "metadata": {},
   "outputs": [],
   "source": [
    "import subprocess\n",
    "import json"
   ]
  },
  {
   "cell_type": "code",
   "execution_count": 38,
   "metadata": {},
   "outputs": [
    {
     "data": {
      "text/plain": [
       "{'streams': [{'index': 0,\n",
       "   'codec_name': 'h264',\n",
       "   'codec_long_name': 'H.264 / AVC / MPEG-4 AVC / MPEG-4 part 10',\n",
       "   'profile': 'Constrained Baseline',\n",
       "   'codec_type': 'video',\n",
       "   'codec_tag_string': 'avc1',\n",
       "   'codec_tag': '0x31637661',\n",
       "   'width': 540,\n",
       "   'height': 1170,\n",
       "   'coded_width': 540,\n",
       "   'coded_height': 1170,\n",
       "   'closed_captions': 0,\n",
       "   'film_grain': 0,\n",
       "   'has_b_frames': 0,\n",
       "   'pix_fmt': 'yuv420p',\n",
       "   'level': 32,\n",
       "   'color_range': 'tv',\n",
       "   'color_space': 'bt709',\n",
       "   'color_transfer': 'bt709',\n",
       "   'color_primaries': 'bt709',\n",
       "   'chroma_location': 'left',\n",
       "   'field_order': 'progressive',\n",
       "   'refs': 1,\n",
       "   'is_avc': 'true',\n",
       "   'nal_length_size': '4',\n",
       "   'id': '0x1',\n",
       "   'r_frame_rate': '60/1',\n",
       "   'avg_frame_rate': '60/1',\n",
       "   'time_base': '1/15360',\n",
       "   'start_pts': 0,\n",
       "   'start_time': '0.000000',\n",
       "   'duration_ts': 2560,\n",
       "   'duration': '0.166667',\n",
       "   'bit_rate': '4502112',\n",
       "   'bits_per_raw_sample': '8',\n",
       "   'nb_frames': '10',\n",
       "   'extradata_size': 45,\n",
       "   'disposition': {'default': 1,\n",
       "    'dub': 0,\n",
       "    'original': 0,\n",
       "    'comment': 0,\n",
       "    'lyrics': 0,\n",
       "    'karaoke': 0,\n",
       "    'forced': 0,\n",
       "    'hearing_impaired': 0,\n",
       "    'visual_impaired': 0,\n",
       "    'clean_effects': 0,\n",
       "    'attached_pic': 0,\n",
       "    'timed_thumbnails': 0,\n",
       "    'captions': 0,\n",
       "    'descriptions': 0,\n",
       "    'metadata': 0,\n",
       "    'dependent': 0,\n",
       "    'still_image': 0},\n",
       "   'tags': {'language': 'eng',\n",
       "    'handler_name': '\\x1fMainconcept Video Media Handler',\n",
       "    'vendor_id': '[0][0][0][0]',\n",
       "    'encoder': 'Lavc60.6.101 libx264'}},\n",
       "  {'index': 1,\n",
       "   'codec_name': 'aac',\n",
       "   'codec_long_name': 'AAC (Advanced Audio Coding)',\n",
       "   'profile': 'LC',\n",
       "   'codec_type': 'audio',\n",
       "   'codec_tag_string': 'mp4a',\n",
       "   'codec_tag': '0x6134706d',\n",
       "   'sample_fmt': 'fltp',\n",
       "   'sample_rate': '48000',\n",
       "   'channels': 2,\n",
       "   'channel_layout': 'stereo',\n",
       "   'bits_per_sample': 0,\n",
       "   'initial_padding': 0,\n",
       "   'id': '0x2',\n",
       "   'r_frame_rate': '0/0',\n",
       "   'avg_frame_rate': '0/0',\n",
       "   'time_base': '1/48000',\n",
       "   'start_pts': 0,\n",
       "   'start_time': '0.000000',\n",
       "   'duration_ts': 8160,\n",
       "   'duration': '0.170000',\n",
       "   'bit_rate': '2875',\n",
       "   'nb_frames': '9',\n",
       "   'extradata_size': 5,\n",
       "   'disposition': {'default': 1,\n",
       "    'dub': 0,\n",
       "    'original': 0,\n",
       "    'comment': 0,\n",
       "    'lyrics': 0,\n",
       "    'karaoke': 0,\n",
       "    'forced': 0,\n",
       "    'hearing_impaired': 0,\n",
       "    'visual_impaired': 0,\n",
       "    'clean_effects': 0,\n",
       "    'attached_pic': 0,\n",
       "    'timed_thumbnails': 0,\n",
       "    'captions': 0,\n",
       "    'descriptions': 0,\n",
       "    'metadata': 0,\n",
       "    'dependent': 0,\n",
       "    'still_image': 0},\n",
       "   'tags': {'language': 'eng',\n",
       "    'handler_name': '#Mainconcept MP4 Sound Media Handler',\n",
       "    'vendor_id': '[0][0][0][0]'}}],\n",
       " 'format': {'filename': 'D:\\\\Code\\\\ffmpeg\\\\mass\\\\output.mp4',\n",
       "  'nb_streams': 2,\n",
       "  'nb_programs': 0,\n",
       "  'format_name': 'mov,mp4,m4a,3gp,3g2,mj2',\n",
       "  'format_long_name': 'QuickTime / MOV',\n",
       "  'start_time': '0.000000',\n",
       "  'duration': '0.170000',\n",
       "  'size': '95492',\n",
       "  'bit_rate': '4493741',\n",
       "  'probe_score': 100,\n",
       "  'tags': {'major_brand': 'isom',\n",
       "   'minor_version': '512',\n",
       "   'compatible_brands': 'isomiso2avc1mp41',\n",
       "   'encoder': 'Lavf60.4.100'}}}"
      ]
     },
     "execution_count": 38,
     "metadata": {},
     "output_type": "execute_result"
    }
   ],
   "source": [
    "filename = \"D:\\\\Code\\\\ffmpeg\\\\mass\\\\output.mp4\"\n",
    "ffprobe_command = [\n",
    "    'ffprobe',\n",
    "    '-v', 'error',\n",
    "    '-show_format',\n",
    "    '-show_streams',\n",
    "    '-of', 'json',\n",
    "    filename\n",
    "]\n",
    "\n",
    "ffprobe_output = subprocess.check_output(ffprobe_command,text=False)\n",
    "\n",
    "# 解析JSON输出（如果存在）\n",
    "if ffprobe_output:\n",
    "    video_info = json.loads(ffprobe_output)\n",
    "    # 打印完整的JSON信息\n",
    "video_info['streams']"
   ]
  },
  {
   "cell_type": "code",
   "execution_count": 16,
   "metadata": {},
   "outputs": [
    {
     "ename": "NameError",
     "evalue": "name 'duration' is not defined",
     "output_type": "error",
     "traceback": [
      "\u001b[1;31m---------------------------------------------------------------------------\u001b[0m",
      "\u001b[1;31mNameError\u001b[0m                                 Traceback (most recent call last)",
      "\u001b[1;32md:\\Code\\ffmpeg\\test.ipynb 单元格 3\u001b[0m line \u001b[0;36m<cell line: 1>\u001b[1;34m()\u001b[0m\n\u001b[1;32m----> <a href='vscode-notebook-cell:/d%3A/Code/ffmpeg/test.ipynb#W2sZmlsZQ%3D%3D?line=0'>1</a>\u001b[0m duration\n",
      "\u001b[1;31mNameError\u001b[0m: name 'duration' is not defined"
     ]
    }
   ],
   "source": [
    "duration"
   ]
  },
  {
   "cell_type": "code",
   "execution_count": 40,
   "metadata": {},
   "outputs": [
    {
     "name": "stdout",
     "output_type": "stream",
     "text": [
      "{\"streams\": [         {\"index\": 0,    \"codec_name\": \"h264\",    \"codec_long_name\": \"H.264 / AVC / MPEG-4 AVC / MPEG-4 part 10\",    \"profile\": \"Constrained Baseline\",    \"codec_type\": \"video\",    \"codec_tag_string\": \"avc1\",    \"codec_tag\": \"0x31637661\",    \"width\": 540,    \"height\": 1170,    \"coded_width\": 540,    \"coded_height\": 1170,    \"closed_captions\": 0,    \"film_grain\": 0,    \"has_b_frames\": 0,    \"pix_fmt\": \"yuv420p\",    \"level\": 32,    \"color_range\": \"tv\",    \"color_space\": \"bt709\",    \"color_transfer\": \"bt709\",    \"color_primaries\": \"bt709\",    \"chroma_location\": \"left\",    \"field_order\": \"progressive\",    \"refs\": 1,    \"is_avc\": \"true\",    \"nal_length_size\": \"4\",    \"id\": \"0x1\",    \"r_frame_rate\": \"60/1\",    \"avg_frame_rate\": \"60/1\",    \"time_base\": \"1/15360\",    \"start_pts\": 0,    \"start_time\": \"0.000000\",    \"duration_ts\": 2560,    \"duration\": \"0.166667\",    \"bit_rate\": \"4502112\",    \"bits_per_raw_sample\": \"8\",    \"nb_frames\": \"10\",    \"extradata_size\": 45,    \"disposition\": {\"default\": 1,     \"dub\": 0,     \"original\": 0,     \"comment\": 0,     \"lyrics\": 0,     \"karaoke\": 0,     \"forced\": 0,     \"hearing_impaired\": 0,     \"visual_impaired\": 0,     \"clean_effects\": 0,     \"attached_pic\": 0,     \"timed_thumbnails\": 0,     \"captions\": 0,     \"descriptions\": 0,     \"metadata\": 0,     \"dependent\": 0,     \"still_image\": 0             },    \"tags\": {\"language\": \"eng\",     \"handler_name\": \"\\x1fMainconcept Video Media Handler\",     \"vendor_id\": \"[                     0                 ][                     0                 ][                     0                 ][                     0                 ]\",     \"encoder\": \"Lavc60.6.101 libx264\"             }         },         {\"index\": 1,    \"codec_name\": \"aac\",    \"codec_long_name\": \"AAC (Advanced Audio Coding)\",    \"profile\": \"LC\",    \"codec_type\": \"audio\",    \"codec_tag_string\": \"mp4a\",    \"codec_tag\": \"0x6134706d\",    \"sample_fmt\": \"fltp\",    \"sample_rate\": \"48000\",    \"channels\": 2,    \"channel_layout\": \"stereo\",    \"bits_per_sample\": 0,    \"initial_padding\": 0,    \"id\": \"0x2\",    \"r_frame_rate\": \"0/0\",    \"avg_frame_rate\": \"0/0\",    \"time_base\": \"1/48000\",    \"start_pts\": 0,    \"start_time\": \"0.000000\",    \"duration_ts\": 8160,    \"duration\": \"0.170000\",    \"bit_rate\": \"2875\",    \"nb_frames\": \"9\",    \"extradata_size\": 5,    \"disposition\": {\"default\": 1,     \"dub\": 0,     \"original\": 0,     \"comment\": 0,     \"lyrics\": 0,     \"karaoke\": 0,     \"forced\": 0,     \"hearing_impaired\": 0,     \"visual_impaired\": 0,     \"clean_effects\": 0,     \"attached_pic\": 0,     \"timed_thumbnails\": 0,     \"captions\": 0,     \"descriptions\": 0,     \"metadata\": 0,     \"dependent\": 0,     \"still_image\": 0             },    \"tags\": {\"language\": \"eng\",     \"handler_name\": \"#Mainconcept MP4 Sound Media Handler\",     \"vendor_id\": \"[                     0                 ][                     0                 ][                     0                 ][                     0                 ]\"             }         }     ],  \"format\": {\"filename\": \"D:\\\\Code\\\\ffmpeg\\\\mass\\\\output.mp4\",   \"nb_streams\": 2,   \"nb_programs\": 0,   \"format_name\": \"mov,mp4,m4a,         3gp,         3g2,mj2\",   \"format_long_name\": \"QuickTime / MOV\",   \"start_time\": \"0.000000\",   \"duration\": \"0.170000\",   \"size\": \"95492\",   \"bit_rate\": \"4493741\",   \"probe_score\": 100,   \"tags\": {\"major_brand\": \"isom\",    \"minor_version\": \"512\",    \"compatible_brands\": \"isomiso2avc1mp41\",    \"encoder\": \"Lavf60.4.100\"         }     } }\n"
     ]
    }
   ],
   "source": [
    "i = input()\n",
    "a = i.replace(\"'\",'\"')\n",
    "print(a)"
   ]
  }
 ],
 "metadata": {
  "kernelspec": {
   "display_name": "base",
   "language": "python",
   "name": "python3"
  },
  "language_info": {
   "codemirror_mode": {
    "name": "ipython",
    "version": 3
   },
   "file_extension": ".py",
   "mimetype": "text/x-python",
   "name": "python",
   "nbconvert_exporter": "python",
   "pygments_lexer": "ipython3",
   "version": "3.9.12"
  },
  "orig_nbformat": 4
 },
 "nbformat": 4,
 "nbformat_minor": 2
}
